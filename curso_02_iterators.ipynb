{
 "cells": [
  {
   "cell_type": "markdown",
   "metadata": {},
   "source": [
    "# List Comprehensions "
   ]
  },
  {
   "cell_type": "code",
   "execution_count": null,
   "metadata": {},
   "outputs": [],
   "source": [
    "from datetime import datetime\n",
    "\n",
    "\n",
    "def timethis(fn_to_decorate):\n",
    "    def wrapper(*args, **kwargs):\n",
    "        start_time = datetime.now()\n",
    "        fn = fn_to_decorate(*args, **kwargs)\n",
    "        print(\"Execution time of: {}\".format(datetime.now() - start_time))\n",
    "        return fn\n",
    "\n",
    "    return wrapper"
   ]
  },
  {
   "cell_type": "code",
   "execution_count": null,
   "metadata": {},
   "outputs": [],
   "source": [
    "test_list = []\n",
    "for i in range(100):\n",
    "    test_list.append(i)\n",
    "\n",
    "\n",
    "test_list2 = [i for i in range(100)]\n",
    "\n",
    "test_list == test_list2"
   ]
  },
  {
   "cell_type": "code",
   "execution_count": null,
   "metadata": {},
   "outputs": [],
   "source": [
    "@timethis\n",
    "def list_comprehensions():\n",
    "    return [i ** 23 for i in range(10000000)]\n",
    "\n",
    "\n",
    "result = list_comprehensions()"
   ]
  },
  {
   "cell_type": "code",
   "execution_count": null,
   "metadata": {},
   "outputs": [],
   "source": [
    "@timethis\n",
    "def list_no_comp():\n",
    "    test_list = []\n",
    "    for i in range(10000000):\n",
    "        test_list.append(i ** 23)\n",
    "    return test_list\n",
    "\n",
    "result = list_no_comp()"
   ]
  },
  {
   "cell_type": "code",
   "execution_count": null,
   "metadata": {},
   "outputs": [],
   "source": [
    "def addition(n): \n",
    "    return n + n \n",
    "  \n",
    "list(map(addition, (1, 2, 3, 4)))"
   ]
  },
  {
   "cell_type": "code",
   "execution_count": null,
   "metadata": {},
   "outputs": [],
   "source": [
    "[i + i for i in (1, 2, 3, 4)]"
   ]
  },
  {
   "cell_type": "code",
   "execution_count": null,
   "metadata": {},
   "outputs": [],
   "source": [
    "list(map(lambda x, y: x + y, (1, 2, 3, 4), (3, 4, 5, 6)))"
   ]
  },
  {
   "cell_type": "code",
   "execution_count": null,
   "metadata": {},
   "outputs": [],
   "source": [
    "list(filter(lambda x: x % 2, (1, 2, 3, 4)))"
   ]
  },
  {
   "cell_type": "code",
   "execution_count": null,
   "metadata": {},
   "outputs": [],
   "source": [
    "[i for i in range(4) if i % 2]"
   ]
  },
  {
   "cell_type": "code",
   "execution_count": null,
   "metadata": {},
   "outputs": [],
   "source": [
    "print(type([i for i in range(4)]))\n",
    "print(type(set(i for i in range(4))))\n",
    "print(type((i for i in range(4))))\n",
    "print(type({i:i for i in range(4)}))"
   ]
  },
  {
   "cell_type": "markdown",
   "metadata": {},
   "source": [
    "# Iteradores"
   ]
  },
  {
   "cell_type": "code",
   "execution_count": null,
   "metadata": {},
   "outputs": [],
   "source": [
    "def interfunc(): \n",
    "    for i in range(5):\n",
    "        yield i\n",
    "\n",
    "print(interfunc())\n",
    "iterator = interfunc()\n",
    "print(next(iterator))  # 0\n",
    "print(next(iterator))  # 1\n",
    "print(next(iterator))  # 2\n",
    "print(next(iterator))  # 3\n",
    "print(next(iterator))  # 4\n",
    "print(\"And now?\")\n",
    "print(next(iterator))\n"
   ]
  },
  {
   "cell_type": "code",
   "execution_count": null,
   "metadata": {},
   "outputs": [],
   "source": [
    "print([i for i in interfunc()])"
   ]
  },
  {
   "cell_type": "code",
   "execution_count": null,
   "metadata": {},
   "outputs": [],
   "source": [
    "def fibonacci():\n",
    "    a, b = 0, 1\n",
    "    while 1:\n",
    "        yield a\n",
    "        b, a = a, a + b\n",
    "\n",
    "\n",
    "fib_number = fibonacci() # fibonacci() devuelve un generador\n",
    "next(fib_number) # 0\n",
    "next(fib_number) # 1\n",
    "next(fib_number) # 1\n",
    "next(fib_number) # 2"
   ]
  },
  {
   "cell_type": "code",
   "execution_count": null,
   "metadata": {},
   "outputs": [],
   "source": [
    "def grep(pattern, lines):\n",
    "    for line in lines:\n",
    "        if pattern in line:\n",
    "            yield line\n",
    "\n",
    "# Set up a processing pipe : tail -f | grep python\n",
    "logfile = open(\"brian_life_script.txt\", 'r')\n",
    "pylines = grep(\"Roma\", (line for line in logfile.readlines()))\n",
    "# Pull results out of the processing pipeline\n",
    "for line in pylines:\n",
    "    print(line)"
   ]
  },
  {
   "cell_type": "code",
   "execution_count": null,
   "metadata": {},
   "outputs": [],
   "source": [
    "def iter_dict(*args, **kwargs):\n",
    "    for key, value in kwargs.items():\n",
    "        yield \"key: {}, value: {}\".format(key, value)\n",
    "    \n",
    "list(iter_dict(**{\"name1\": \"Jhon\", \"name2\": \"Daenerys\"}))"
   ]
  },
  {
   "cell_type": "code",
   "execution_count": null,
   "metadata": {},
   "outputs": [],
   "source": [
    "# https://rosettacode.org/wiki/N-queens_problem#Python\n",
    "def solve(n, i, a, b, c):\n",
    "    if i < n:\n",
    "        for j in range(n):\n",
    "            if j not in a and i+j not in b and i-j not in c:\n",
    "                for solution in solve(n, i+1, a+[j], b+[i+j], c+[i-j]):\n",
    "                    yield solution\n",
    "    else:\n",
    "        yield a\n",
    " \n",
    "for solution in solve(8, 0, [], [], []):\n",
    "    print(solution)"
   ]
  }
 ],
 "metadata": {
  "kernelspec": {
   "display_name": "Python 3",
   "language": "python",
   "name": "python3"
  },
  "language_info": {
   "codemirror_mode": {
    "name": "ipython",
    "version": 3
   },
   "file_extension": ".py",
   "mimetype": "text/x-python",
   "name": "python",
   "nbconvert_exporter": "python",
   "pygments_lexer": "ipython3",
   "version": "3.7.5"
  }
 },
 "nbformat": 4,
 "nbformat_minor": 2
}
