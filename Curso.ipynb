{
 "cells": [
  {
   "cell_type": "markdown",
   "metadata": {},
   "source": [
    "Ejemplo moña"
   ]
  },
  {
   "cell_type": "code",
   "execution_count": 4,
   "metadata": {},
   "outputs": [],
   "source": [
    "def mi_funcion():\n",
    "    return 'hola'\n",
    "\n",
    "def mi_funcion2():\n",
    "    return mi_funcion()"
   ]
  },
  {
   "cell_type": "code",
   "execution_count": 3,
   "metadata": {},
   "outputs": [],
   "source": [
    "from unittest import mock, TestCase\n",
    "\n",
    "from example01 import mi_funcion2\n",
    "\n",
    "\n",
    "class TestMiFuncion(TestCase):\n",
    "\n",
    "    @mock.patch('example01.mi_funcion')\n",
    "    def test_get_text(self, mocked_response):\n",
    "        mocked_response.return_value = 'mi_mock'\n",
    "        response = mi_funcion2()\n",
    "        self.assertEqual(response, 'mi_mock')"
   ]
  },
  {
   "cell_type": "markdown",
   "metadata": {},
   "source": [
    "Ejemplo \"PutaBidaTete\""
   ]
  },
  {
   "cell_type": "code",
   "execution_count": null,
   "metadata": {},
   "outputs": [],
   "source": [
    "@patch.object(ExecutionFailed, 'move_failed_from_execution')\n",
    "@patch('lambdas.planner.models.ExecutionIngested')\n",
    "@patch('lambdas.planner.models.Execution')\n",
    "@patch('lambdas.planner.models.session')\n",
    "def test_handler_plan_ok(self, mock_session, mock_execution, mock_execution_ingested, mock_execution_failed):\n",
    "    \"\"\"\n",
    "    Test case:\n",
    "        test lambda handler if there were no origin groups\n",
    "    Notes:\n",
    "        lambda load configuration interaction is mocked\n",
    "        lambda run environment (event, context) is mocked\n",
    "    \"\"\"\n",
    "\n",
    "    execution = Execution()\n",
    "    execution.status = \"SUCCEDED\"\n",
    "    execution.phase = \"LOAD\"\n",
    "    execution.retries = 0\n",
    "    executions = [execution]\n",
    "\n",
    "    # Execution.query.filter().order_by().limit()\n",
    "    mock_order = Mock()\n",
    "    mock_order.limit.return_value = executions\n",
    "    mock_filter = Mock()\n",
    "    mock_filter.order_by.return_value = mock_order\n",
    "    mock_query = Mock()\n",
    "    mock_query.filter.return_value = mock_filter\n",
    "    mock_execution.query = mock_query\n",
    "    mock_execution.retries = 0\n",
    "\n",
    "    mock_ing_filter = Mock()\n",
    "    mock_ing_filter.count.return_value = 0\n",
    "    mock_ing_query = Mock()\n",
    "    mock_ing_query.filter.return_value = mock_ing_filter\n",
    "    mock_execution_ingested.query = mock_ing_query\n",
    "\n",
    "    event = \"{}\"\n",
    "    # asserts\n",
    "    self.assertEqual('OK', handler(event, self.context))\n",
    "    mock_session.delete.assert_called_once_with(execution)\n",
    "    mock_session.add_all.assert_called_once()\n",
    "    self.assertEqual(1, len(mock_session.add_all.call_args[0]))\n",
    "    mock_session.commit.assert_called_once()"
   ]
  },
  {
   "cell_type": "code",
   "execution_count": 5,
   "metadata": {},
   "outputs": [
    {
     "name": "stdout",
     "output_type": "stream",
     "text": [
      "------------\n",
      "Hola Mundo!!!\n",
      "------------\n"
     ]
    }
   ],
   "source": [
    "def my_decorator(func):\n",
    "    def my_function():\n",
    "        print(\"-\"*12)\n",
    "        func()\n",
    "        print(\"-\"*12)\n",
    "    return my_function\n",
    "\n",
    "@my_decorator\n",
    "def print_text():\n",
    "    print(\"Hola Mundo!!!\")\n",
    "    \n",
    "print_text()"
   ]
  }
 ],
 "metadata": {
  "kernelspec": {
   "display_name": "Python 3",
   "language": "python",
   "name": "python3"
  },
  "language_info": {
   "codemirror_mode": {
    "name": "ipython",
    "version": 3
   },
   "file_extension": ".py",
   "mimetype": "text/x-python",
   "name": "python",
   "nbconvert_exporter": "python",
   "pygments_lexer": "ipython3",
   "version": "3.6.8"
  }
 },
 "nbformat": 4,
 "nbformat_minor": 2
}
