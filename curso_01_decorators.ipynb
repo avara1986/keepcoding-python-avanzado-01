{
 "cells": [
  {
   "cell_type": "markdown",
   "metadata": {},
   "source": [
    "# Decoradores"
   ]
  },
  {
   "cell_type": "code",
   "execution_count": null,
   "metadata": {},
   "outputs": [],
   "source": [
    "def mi_funcion(param1, param2):\n",
    "    return 'hola {} {}'.format(param1, param2)\n",
    "\n",
    "def mi_funcion2():\n",
    "    return mi_funcion(\"Juanito\", \"Nieve\")\n",
    "\n",
    "mi_funcion2()"
   ]
  },
  {
   "cell_type": "code",
   "execution_count": null,
   "metadata": {},
   "outputs": [],
   "source": [
    "def logger(fn_to_decorate):\n",
    "    def wrapper(*args, **kwargs):\n",
    "        print(\"Function %s called with arguments: %s, %s\" % (fn_to_decorate.__name__, args, kwargs))\n",
    "        return fn_to_decorate(*args, **kwargs)\n",
    "    return wrapper"
   ]
  },
  {
   "cell_type": "code",
   "execution_count": null,
   "metadata": {},
   "outputs": [],
   "source": [
    "my_logger = logger(mi_funcion)\n",
    "print(my_logger(\"Jhon\", \"Snow\"))"
   ]
  },
  {
   "cell_type": "code",
   "execution_count": null,
   "metadata": {},
   "outputs": [],
   "source": [
    "my_logger2 = logger(mi_funcion2)\n",
    "print(my_logger2())"
   ]
  },
  {
   "cell_type": "code",
   "execution_count": null,
   "metadata": {},
   "outputs": [],
   "source": [
    "@logger\n",
    "def mi_funcion(param1, param2):\n",
    "    return 'hola {} {}'.format(param1, param2)\n",
    "\n",
    "print(\"test this\")\n",
    "print(mi_funcion(\"Jhon\", \"Snow\"))"
   ]
  },
  {
   "cell_type": "code",
   "execution_count": null,
   "metadata": {},
   "outputs": [],
   "source": [
    "def logger_params(*args, **kwargs): \n",
    "    def wrapper(func):\n",
    "        print(\"Arguments: %s, %s\" % (args, kwargs))\n",
    "        ''' \n",
    "           do operations with func \n",
    "        '''\n",
    "        return func \n",
    "    return wrapper"
   ]
  },
  {
   "cell_type": "code",
   "execution_count": null,
   "metadata": {},
   "outputs": [],
   "source": [
    "def mi_funcion3(param1, param2):\n",
    "    return 'hola {} {}'.format(param1, param2)\n",
    "\n",
    "print(\"test this\")\n",
    "mi_funcion3 = (logger_params(\"hola\", \"prueba\"))(mi_funcion3)\n",
    "mi_funcion3(\"Jhon\", \"Snow\")"
   ]
  },
  {
   "cell_type": "code",
   "execution_count": null,
   "metadata": {},
   "outputs": [],
   "source": [
    "print(\"test this\")\n",
    "mi_funcion3(\"Jhon\", \"Snow\")"
   ]
  },
  {
   "cell_type": "markdown",
   "metadata": {},
   "source": [
    "## Cuidado con lo que se devuelve!"
   ]
  },
  {
   "cell_type": "code",
   "execution_count": null,
   "metadata": {},
   "outputs": [],
   "source": [
    "@logger_params(\"prueba\")\n",
    "def mi_funcion3(param1, param2):\n",
    "    return 'hola {} {}'.format(param1, param2)\n",
    "\n",
    "@logger\n",
    "def mi_funcion(param1, param2):\n",
    "    return 'hola {} {}'.format(param1, param2)\n",
    "\n",
    "\n",
    "print(mi_funcion3.__name__)\n",
    "print(mi_funcion.__name__)"
   ]
  },
  {
   "cell_type": "code",
   "execution_count": null,
   "metadata": {},
   "outputs": [],
   "source": [
    "def logger(fn_to_decorate):\n",
    "    def wrapper(*args, **kwargs):\n",
    "        print(\"Function %s called with arguments: %s, %s\" % (fn_to_decorate.__name__, args, kwargs))\n",
    "        return fn_to_decorate(*args, **kwargs)\n",
    "    return wrapper\n",
    "\n",
    "@logger\n",
    "def mi_funcion4(param1, param2):\n",
    "    return 'hola {} {}'.format(param1, param2)\n",
    "\n",
    "print(mi_funcion4(\"Jhon\", \"Snow\"))\n",
    "\n",
    "print(mi_funcion4.__name__)"
   ]
  },
  {
   "cell_type": "code",
   "execution_count": null,
   "metadata": {},
   "outputs": [],
   "source": [
    "from functools import wraps\n",
    "\n",
    "def logger(fn_to_decorate):\n",
    "    @wraps(fn_to_decorate)\n",
    "    def wrapper(*args, **kwargs):\n",
    "        print(\"Function %s called with arguments: %s, %s\" % (fn_to_decorate.__name__, args, kwargs))\n",
    "        return fn_to_decorate(*args, **kwargs)\n",
    "    return wrapper\n",
    "\n",
    "@logger\n",
    "def mi_funcion4(param1, param2):\n",
    "    return 'hola {} {}'.format(param1, param2)\n",
    "\n",
    "print(mi_funcion4(\"Jon\", \"Snow\"))\n",
    "\n",
    "print(mi_funcion4.__name__)"
   ]
  },
  {
   "cell_type": "code",
   "execution_count": null,
   "metadata": {},
   "outputs": [],
   "source": []
  }
 ],
 "metadata": {
  "kernelspec": {
   "display_name": "Python 3",
   "language": "python",
   "name": "python3"
  },
  "language_info": {
   "codemirror_mode": {
    "name": "ipython",
    "version": 3
   },
   "file_extension": ".py",
   "mimetype": "text/x-python",
   "name": "python",
   "nbconvert_exporter": "python",
   "pygments_lexer": "ipython3",
   "version": "3.6.8"
  }
 },
 "nbformat": 4,
 "nbformat_minor": 2
}
