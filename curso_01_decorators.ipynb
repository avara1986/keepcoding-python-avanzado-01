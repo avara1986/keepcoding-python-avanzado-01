{
 "cells": [
  {
   "cell_type": "markdown",
   "metadata": {},
   "source": [
    "# Decoradores"
   ]
  },
  {
   "cell_type": "code",
   "execution_count": 1,
   "metadata": {},
   "outputs": [
    {
     "data": {
      "text/plain": [
       "'hola Juanito Nieve'"
      ]
     },
     "execution_count": 1,
     "metadata": {},
     "output_type": "execute_result"
    }
   ],
   "source": [
    "def mi_funcion(param1, param2):\n",
    "    return 'hola {} {}'.format(param1, param2)\n",
    "\n",
    "def mi_funcion2():\n",
    "    return mi_funcion(\"Juanito\", \"Nieve\")\n",
    "\n",
    "mi_funcion2()"
   ]
  },
  {
   "cell_type": "code",
   "execution_count": 2,
   "metadata": {},
   "outputs": [],
   "source": [
    "def logger(fn_to_decorate):\n",
    "    def wrapper(*args, **kwargs):\n",
    "        print(\"Arguments: %s, %s\" % (args, kwargs))\n",
    "        return fn_to_decorate(*args, **kwargs)\n",
    "    return wrapper"
   ]
  },
  {
   "cell_type": "code",
   "execution_count": 7,
   "metadata": {},
   "outputs": [
    {
     "name": "stdout",
     "output_type": "stream",
     "text": [
      "Arguments: ('Jhon', 'Snow'), {}\n",
      "hola Jhon Snow\n"
     ]
    }
   ],
   "source": [
    "my_logger = logger(mi_funcion)\n",
    "print(my_logger(\"Jhon\", \"Snow\"))"
   ]
  },
  {
   "cell_type": "code",
   "execution_count": 8,
   "metadata": {},
   "outputs": [
    {
     "name": "stdout",
     "output_type": "stream",
     "text": [
      "Arguments: (), {}\n",
      "hola Juanito Nieve\n"
     ]
    }
   ],
   "source": [
    "my_logger = logger(mi_funcion2)\n",
    "print(my_logger())"
   ]
  },
  {
   "cell_type": "code",
   "execution_count": 22,
   "metadata": {},
   "outputs": [
    {
     "name": "stdout",
     "output_type": "stream",
     "text": [
      "test this\n",
      "Arguments: ('Jhon', 'Snow'), {}\n",
      "hola Jhon Snow\n"
     ]
    }
   ],
   "source": [
    "@logger\n",
    "def mi_funcion(param1, param2):\n",
    "    return 'hola {} {}'.format(param1, param2)\n",
    "\n",
    "print(\"test this\")\n",
    "print(mi_funcion(\"Jhon\", \"Snow\"))"
   ]
  },
  {
   "cell_type": "code",
   "execution_count": 19,
   "metadata": {},
   "outputs": [],
   "source": [
    "def logger_params(*args, **kwargs): \n",
    "    def wrapper(func):\n",
    "        print(\"Arguments: %s, %s\" % (args, kwargs))\n",
    "        ''' \n",
    "           do operations with func \n",
    "        '''\n",
    "        return func \n",
    "    return wrapper #this is the fun_obj mentioned in the above content "
   ]
  },
  {
   "cell_type": "code",
   "execution_count": 20,
   "metadata": {},
   "outputs": [
    {
     "name": "stdout",
     "output_type": "stream",
     "text": [
      "Arguments: ('hola', 'prueba'), {}\n"
     ]
    },
    {
     "data": {
      "text/plain": [
       "'hola Jhon Snow'"
      ]
     },
     "execution_count": 20,
     "metadata": {},
     "output_type": "execute_result"
    }
   ],
   "source": [
    "def mi_funcion3(param1, param2):\n",
    "    return 'hola {} {}'.format(param1, param2)\n",
    "\n",
    "mi_funcion3 = (logger_params(\"hola\", \"prueba\"))(mi_funcion3)\n",
    "mi_funcion3(\"Jhon\", \"Snow\")"
   ]
  },
  {
   "cell_type": "code",
   "execution_count": 23,
   "metadata": {},
   "outputs": [
    {
     "name": "stdout",
     "output_type": "stream",
     "text": [
      "Arguments: ('prueba',), {}\n",
      "test this\n"
     ]
    },
    {
     "data": {
      "text/plain": [
       "'hola Jhon Snow'"
      ]
     },
     "execution_count": 23,
     "metadata": {},
     "output_type": "execute_result"
    }
   ],
   "source": [
    "@logger_params(\"prueba\")\n",
    "def mi_funcion3(param1, param2):\n",
    "    return 'hola {} {}'.format(param1, param2)\n",
    "\n",
    "print(\"test this\")\n",
    "mi_funcion3(\"Jhon\", \"Snow\")"
   ]
  }
 ],
 "metadata": {
  "kernelspec": {
   "display_name": "Python 3",
   "language": "python",
   "name": "python3"
  },
  "language_info": {
   "codemirror_mode": {
    "name": "ipython",
    "version": 3
   },
   "file_extension": ".py",
   "mimetype": "text/x-python",
   "name": "python",
   "nbconvert_exporter": "python",
   "pygments_lexer": "ipython3",
   "version": "3.6.8"
  }
 },
 "nbformat": 4,
 "nbformat_minor": 2
}
